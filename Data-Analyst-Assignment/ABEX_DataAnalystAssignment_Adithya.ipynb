{
  "nbformat": 4,
  "nbformat_minor": 0,
  "metadata": {
    "colab": {
      "provenance": [],
      "toc_visible": true,
      "authorship_tag": "ABX9TyNLWaUhu3fyJ1gBV3fwUNCS",
      "include_colab_link": true
    },
    "kernelspec": {
      "name": "python3",
      "display_name": "Python 3"
    },
    "language_info": {
      "name": "python"
    }
  },
  "cells": [
    {
      "cell_type": "markdown",
      "metadata": {
        "id": "view-in-github",
        "colab_type": "text"
      },
      "source": [
        "<a href=\"https://colab.research.google.com/github/adithya1010/ABEX-Assignments/blob/main/Data-Analyst-Assignment/ABEX_DataAnalystAssignment_Adithya.ipynb\" target=\"_parent\"><img src=\"https://colab.research.google.com/assets/colab-badge.svg\" alt=\"Open In Colab\"/></a>"
      ]
    },
    {
      "cell_type": "markdown",
      "source": [
        "**Data Analyst Assessment - ABEX - 21/02/2025**\n",
        "\n",
        "**Name:** Adithya S.T.\n",
        "\n",
        "**Contact No:** +91 9840983499\n",
        "\n",
        "**Email ID:** adist1340@gmail.com\n",
        "\n",
        "Done with inputs from GPT o3-mini and Gemini 1.5 Flash\n",
        "\n",
        "**Link to Chats:**\n",
        "\n",
        "1. https://www.perplexity.ai/search/for-the-questions-in-the-pdf-f-1aMFiUtOQnmsPZ_ZVXmZ_Q\n",
        "2. https://www.getmerlin.in/share/chat/wAokQCpQQVR\n",
        "\n",
        "**References:**\n",
        "1. https://www.geeksforgeeks.org/detect-and-remove-the-outliers-using-python/\n",
        "2. https://www.w3resource.com/python-exercises/pandas/pandas-detect-and-remove-outliers-using-z-score.php\n",
        "3. https://www.geeksforgeeks.org/z-score-for-outlier-detection-python/"
      ],
      "metadata": {
        "id": "x1Vx7PSb7U2J"
      }
    },
    {
      "cell_type": "markdown",
      "source": [
        "### Importing Libraries"
      ],
      "metadata": {
        "id": "pPSAz49v4Ztc"
      }
    },
    {
      "cell_type": "code",
      "execution_count": 32,
      "metadata": {
        "id": "1KObOpVyF9AT"
      },
      "outputs": [],
      "source": [
        "import pandas as pd\n",
        "import numpy as np"
      ]
    },
    {
      "cell_type": "markdown",
      "source": [
        "### Loading the dataset"
      ],
      "metadata": {
        "id": "EGsdLVqm4gq_"
      }
    },
    {
      "cell_type": "code",
      "source": [
        "# Load the dataset\n",
        "df = pd.read_csv('empd.csv')"
      ],
      "metadata": {
        "id": "0Dt5oPa4JIBm"
      },
      "execution_count": 33,
      "outputs": []
    },
    {
      "cell_type": "markdown",
      "source": [
        "### Printing the first few rows"
      ],
      "metadata": {
        "id": "ih37MuzU4jWu"
      }
    },
    {
      "cell_type": "code",
      "source": [
        "df.head()"
      ],
      "metadata": {
        "colab": {
          "base_uri": "https://localhost:8080/",
          "height": 330
        },
        "id": "cNJKO-NZKhfu",
        "outputId": "3158b185-82af-412e-f30b-d29fdabee637"
      },
      "execution_count": 34,
      "outputs": [
        {
          "output_type": "execute_result",
          "data": {
            "text/plain": [
              "  employee_id first_name last_name                       email  \\\n",
              "0     EMP0001     Robert   Vasquez  anthonyhubbard@example.com   \n",
              "1     EMP0002    Barbara     Bruce    bonniethomas@example.com   \n",
              "2     EMP0003      Derek    Martin         smiller@example.net   \n",
              "3     EMP0004    Monique   Serrano        joseph51@example.net   \n",
              "4     EMP0005      Frank  Robinson       mariepope@example.net   \n",
              "\n",
              "                    phone  department          job_title    salary  \\\n",
              "0            395-797-9647          HR     Senior Analyst   89934.0   \n",
              "1  001-745-858-7716x94722          HR  Senior Consultant   77234.0   \n",
              "2        356-450-4481x832  Enginering  Senior Consultant   92953.0   \n",
              "3        001-852-702-8457       Sales    Senior Engineer  110460.0   \n",
              "4     +1-788-681-6711x207          HR    Manager Manager   75316.0   \n",
              "\n",
              "    join_date  performance_score  \n",
              "0  2022-09-06                5.0  \n",
              "1  2024-07-05                5.0  \n",
              "2  2022-11-02                3.0  \n",
              "3  2024-09-21                NaN  \n",
              "4  2023-07-29                2.0  "
            ],
            "text/html": [
              "\n",
              "  <div id=\"df-6cc20d25-f116-46e5-b53c-1d561df19a9c\" class=\"colab-df-container\">\n",
              "    <div>\n",
              "<style scoped>\n",
              "    .dataframe tbody tr th:only-of-type {\n",
              "        vertical-align: middle;\n",
              "    }\n",
              "\n",
              "    .dataframe tbody tr th {\n",
              "        vertical-align: top;\n",
              "    }\n",
              "\n",
              "    .dataframe thead th {\n",
              "        text-align: right;\n",
              "    }\n",
              "</style>\n",
              "<table border=\"1\" class=\"dataframe\">\n",
              "  <thead>\n",
              "    <tr style=\"text-align: right;\">\n",
              "      <th></th>\n",
              "      <th>employee_id</th>\n",
              "      <th>first_name</th>\n",
              "      <th>last_name</th>\n",
              "      <th>email</th>\n",
              "      <th>phone</th>\n",
              "      <th>department</th>\n",
              "      <th>job_title</th>\n",
              "      <th>salary</th>\n",
              "      <th>join_date</th>\n",
              "      <th>performance_score</th>\n",
              "    </tr>\n",
              "  </thead>\n",
              "  <tbody>\n",
              "    <tr>\n",
              "      <th>0</th>\n",
              "      <td>EMP0001</td>\n",
              "      <td>Robert</td>\n",
              "      <td>Vasquez</td>\n",
              "      <td>anthonyhubbard@example.com</td>\n",
              "      <td>395-797-9647</td>\n",
              "      <td>HR</td>\n",
              "      <td>Senior Analyst</td>\n",
              "      <td>89934.0</td>\n",
              "      <td>2022-09-06</td>\n",
              "      <td>5.0</td>\n",
              "    </tr>\n",
              "    <tr>\n",
              "      <th>1</th>\n",
              "      <td>EMP0002</td>\n",
              "      <td>Barbara</td>\n",
              "      <td>Bruce</td>\n",
              "      <td>bonniethomas@example.com</td>\n",
              "      <td>001-745-858-7716x94722</td>\n",
              "      <td>HR</td>\n",
              "      <td>Senior Consultant</td>\n",
              "      <td>77234.0</td>\n",
              "      <td>2024-07-05</td>\n",
              "      <td>5.0</td>\n",
              "    </tr>\n",
              "    <tr>\n",
              "      <th>2</th>\n",
              "      <td>EMP0003</td>\n",
              "      <td>Derek</td>\n",
              "      <td>Martin</td>\n",
              "      <td>smiller@example.net</td>\n",
              "      <td>356-450-4481x832</td>\n",
              "      <td>Enginering</td>\n",
              "      <td>Senior Consultant</td>\n",
              "      <td>92953.0</td>\n",
              "      <td>2022-11-02</td>\n",
              "      <td>3.0</td>\n",
              "    </tr>\n",
              "    <tr>\n",
              "      <th>3</th>\n",
              "      <td>EMP0004</td>\n",
              "      <td>Monique</td>\n",
              "      <td>Serrano</td>\n",
              "      <td>joseph51@example.net</td>\n",
              "      <td>001-852-702-8457</td>\n",
              "      <td>Sales</td>\n",
              "      <td>Senior Engineer</td>\n",
              "      <td>110460.0</td>\n",
              "      <td>2024-09-21</td>\n",
              "      <td>NaN</td>\n",
              "    </tr>\n",
              "    <tr>\n",
              "      <th>4</th>\n",
              "      <td>EMP0005</td>\n",
              "      <td>Frank</td>\n",
              "      <td>Robinson</td>\n",
              "      <td>mariepope@example.net</td>\n",
              "      <td>+1-788-681-6711x207</td>\n",
              "      <td>HR</td>\n",
              "      <td>Manager Manager</td>\n",
              "      <td>75316.0</td>\n",
              "      <td>2023-07-29</td>\n",
              "      <td>2.0</td>\n",
              "    </tr>\n",
              "  </tbody>\n",
              "</table>\n",
              "</div>\n",
              "    <div class=\"colab-df-buttons\">\n",
              "\n",
              "  <div class=\"colab-df-container\">\n",
              "    <button class=\"colab-df-convert\" onclick=\"convertToInteractive('df-6cc20d25-f116-46e5-b53c-1d561df19a9c')\"\n",
              "            title=\"Convert this dataframe to an interactive table.\"\n",
              "            style=\"display:none;\">\n",
              "\n",
              "  <svg xmlns=\"http://www.w3.org/2000/svg\" height=\"24px\" viewBox=\"0 -960 960 960\">\n",
              "    <path d=\"M120-120v-720h720v720H120Zm60-500h600v-160H180v160Zm220 220h160v-160H400v160Zm0 220h160v-160H400v160ZM180-400h160v-160H180v160Zm440 0h160v-160H620v160ZM180-180h160v-160H180v160Zm440 0h160v-160H620v160Z\"/>\n",
              "  </svg>\n",
              "    </button>\n",
              "\n",
              "  <style>\n",
              "    .colab-df-container {\n",
              "      display:flex;\n",
              "      gap: 12px;\n",
              "    }\n",
              "\n",
              "    .colab-df-convert {\n",
              "      background-color: #E8F0FE;\n",
              "      border: none;\n",
              "      border-radius: 50%;\n",
              "      cursor: pointer;\n",
              "      display: none;\n",
              "      fill: #1967D2;\n",
              "      height: 32px;\n",
              "      padding: 0 0 0 0;\n",
              "      width: 32px;\n",
              "    }\n",
              "\n",
              "    .colab-df-convert:hover {\n",
              "      background-color: #E2EBFA;\n",
              "      box-shadow: 0px 1px 2px rgba(60, 64, 67, 0.3), 0px 1px 3px 1px rgba(60, 64, 67, 0.15);\n",
              "      fill: #174EA6;\n",
              "    }\n",
              "\n",
              "    .colab-df-buttons div {\n",
              "      margin-bottom: 4px;\n",
              "    }\n",
              "\n",
              "    [theme=dark] .colab-df-convert {\n",
              "      background-color: #3B4455;\n",
              "      fill: #D2E3FC;\n",
              "    }\n",
              "\n",
              "    [theme=dark] .colab-df-convert:hover {\n",
              "      background-color: #434B5C;\n",
              "      box-shadow: 0px 1px 3px 1px rgba(0, 0, 0, 0.15);\n",
              "      filter: drop-shadow(0px 1px 2px rgba(0, 0, 0, 0.3));\n",
              "      fill: #FFFFFF;\n",
              "    }\n",
              "  </style>\n",
              "\n",
              "    <script>\n",
              "      const buttonEl =\n",
              "        document.querySelector('#df-6cc20d25-f116-46e5-b53c-1d561df19a9c button.colab-df-convert');\n",
              "      buttonEl.style.display =\n",
              "        google.colab.kernel.accessAllowed ? 'block' : 'none';\n",
              "\n",
              "      async function convertToInteractive(key) {\n",
              "        const element = document.querySelector('#df-6cc20d25-f116-46e5-b53c-1d561df19a9c');\n",
              "        const dataTable =\n",
              "          await google.colab.kernel.invokeFunction('convertToInteractive',\n",
              "                                                    [key], {});\n",
              "        if (!dataTable) return;\n",
              "\n",
              "        const docLinkHtml = 'Like what you see? Visit the ' +\n",
              "          '<a target=\"_blank\" href=https://colab.research.google.com/notebooks/data_table.ipynb>data table notebook</a>'\n",
              "          + ' to learn more about interactive tables.';\n",
              "        element.innerHTML = '';\n",
              "        dataTable['output_type'] = 'display_data';\n",
              "        await google.colab.output.renderOutput(dataTable, element);\n",
              "        const docLink = document.createElement('div');\n",
              "        docLink.innerHTML = docLinkHtml;\n",
              "        element.appendChild(docLink);\n",
              "      }\n",
              "    </script>\n",
              "  </div>\n",
              "\n",
              "\n",
              "<div id=\"df-1021e9e7-2224-4445-924b-99a552505d1b\">\n",
              "  <button class=\"colab-df-quickchart\" onclick=\"quickchart('df-1021e9e7-2224-4445-924b-99a552505d1b')\"\n",
              "            title=\"Suggest charts\"\n",
              "            style=\"display:none;\">\n",
              "\n",
              "<svg xmlns=\"http://www.w3.org/2000/svg\" height=\"24px\"viewBox=\"0 0 24 24\"\n",
              "     width=\"24px\">\n",
              "    <g>\n",
              "        <path d=\"M19 3H5c-1.1 0-2 .9-2 2v14c0 1.1.9 2 2 2h14c1.1 0 2-.9 2-2V5c0-1.1-.9-2-2-2zM9 17H7v-7h2v7zm4 0h-2V7h2v10zm4 0h-2v-4h2v4z\"/>\n",
              "    </g>\n",
              "</svg>\n",
              "  </button>\n",
              "\n",
              "<style>\n",
              "  .colab-df-quickchart {\n",
              "      --bg-color: #E8F0FE;\n",
              "      --fill-color: #1967D2;\n",
              "      --hover-bg-color: #E2EBFA;\n",
              "      --hover-fill-color: #174EA6;\n",
              "      --disabled-fill-color: #AAA;\n",
              "      --disabled-bg-color: #DDD;\n",
              "  }\n",
              "\n",
              "  [theme=dark] .colab-df-quickchart {\n",
              "      --bg-color: #3B4455;\n",
              "      --fill-color: #D2E3FC;\n",
              "      --hover-bg-color: #434B5C;\n",
              "      --hover-fill-color: #FFFFFF;\n",
              "      --disabled-bg-color: #3B4455;\n",
              "      --disabled-fill-color: #666;\n",
              "  }\n",
              "\n",
              "  .colab-df-quickchart {\n",
              "    background-color: var(--bg-color);\n",
              "    border: none;\n",
              "    border-radius: 50%;\n",
              "    cursor: pointer;\n",
              "    display: none;\n",
              "    fill: var(--fill-color);\n",
              "    height: 32px;\n",
              "    padding: 0;\n",
              "    width: 32px;\n",
              "  }\n",
              "\n",
              "  .colab-df-quickchart:hover {\n",
              "    background-color: var(--hover-bg-color);\n",
              "    box-shadow: 0 1px 2px rgba(60, 64, 67, 0.3), 0 1px 3px 1px rgba(60, 64, 67, 0.15);\n",
              "    fill: var(--button-hover-fill-color);\n",
              "  }\n",
              "\n",
              "  .colab-df-quickchart-complete:disabled,\n",
              "  .colab-df-quickchart-complete:disabled:hover {\n",
              "    background-color: var(--disabled-bg-color);\n",
              "    fill: var(--disabled-fill-color);\n",
              "    box-shadow: none;\n",
              "  }\n",
              "\n",
              "  .colab-df-spinner {\n",
              "    border: 2px solid var(--fill-color);\n",
              "    border-color: transparent;\n",
              "    border-bottom-color: var(--fill-color);\n",
              "    animation:\n",
              "      spin 1s steps(1) infinite;\n",
              "  }\n",
              "\n",
              "  @keyframes spin {\n",
              "    0% {\n",
              "      border-color: transparent;\n",
              "      border-bottom-color: var(--fill-color);\n",
              "      border-left-color: var(--fill-color);\n",
              "    }\n",
              "    20% {\n",
              "      border-color: transparent;\n",
              "      border-left-color: var(--fill-color);\n",
              "      border-top-color: var(--fill-color);\n",
              "    }\n",
              "    30% {\n",
              "      border-color: transparent;\n",
              "      border-left-color: var(--fill-color);\n",
              "      border-top-color: var(--fill-color);\n",
              "      border-right-color: var(--fill-color);\n",
              "    }\n",
              "    40% {\n",
              "      border-color: transparent;\n",
              "      border-right-color: var(--fill-color);\n",
              "      border-top-color: var(--fill-color);\n",
              "    }\n",
              "    60% {\n",
              "      border-color: transparent;\n",
              "      border-right-color: var(--fill-color);\n",
              "    }\n",
              "    80% {\n",
              "      border-color: transparent;\n",
              "      border-right-color: var(--fill-color);\n",
              "      border-bottom-color: var(--fill-color);\n",
              "    }\n",
              "    90% {\n",
              "      border-color: transparent;\n",
              "      border-bottom-color: var(--fill-color);\n",
              "    }\n",
              "  }\n",
              "</style>\n",
              "\n",
              "  <script>\n",
              "    async function quickchart(key) {\n",
              "      const quickchartButtonEl =\n",
              "        document.querySelector('#' + key + ' button');\n",
              "      quickchartButtonEl.disabled = true;  // To prevent multiple clicks.\n",
              "      quickchartButtonEl.classList.add('colab-df-spinner');\n",
              "      try {\n",
              "        const charts = await google.colab.kernel.invokeFunction(\n",
              "            'suggestCharts', [key], {});\n",
              "      } catch (error) {\n",
              "        console.error('Error during call to suggestCharts:', error);\n",
              "      }\n",
              "      quickchartButtonEl.classList.remove('colab-df-spinner');\n",
              "      quickchartButtonEl.classList.add('colab-df-quickchart-complete');\n",
              "    }\n",
              "    (() => {\n",
              "      let quickchartButtonEl =\n",
              "        document.querySelector('#df-1021e9e7-2224-4445-924b-99a552505d1b button');\n",
              "      quickchartButtonEl.style.display =\n",
              "        google.colab.kernel.accessAllowed ? 'block' : 'none';\n",
              "    })();\n",
              "  </script>\n",
              "</div>\n",
              "\n",
              "    </div>\n",
              "  </div>\n"
            ],
            "application/vnd.google.colaboratory.intrinsic+json": {
              "type": "dataframe",
              "variable_name": "df",
              "summary": "{\n  \"name\": \"df\",\n  \"rows\": 1260,\n  \"fields\": [\n    {\n      \"column\": \"employee_id\",\n      \"properties\": {\n        \"dtype\": \"string\",\n        \"num_unique_values\": 1200,\n        \"samples\": [\n          \"EMP1179\",\n          \"EMP0866\",\n          \"EMP0102\"\n        ],\n        \"semantic_type\": \"\",\n        \"description\": \"\"\n      }\n    },\n    {\n      \"column\": \"first_name\",\n      \"properties\": {\n        \"dtype\": \"category\",\n        \"num_unique_values\": 376,\n        \"samples\": [\n          \"Brandy\",\n          \"Roberta\",\n          \"Virginia\"\n        ],\n        \"semantic_type\": \"\",\n        \"description\": \"\"\n      }\n    },\n    {\n      \"column\": \"last_name\",\n      \"properties\": {\n        \"dtype\": \"category\",\n        \"num_unique_values\": 551,\n        \"samples\": [\n          \"Gill\",\n          \"Terrell\",\n          \"Stevens\"\n        ],\n        \"semantic_type\": \"\",\n        \"description\": \"\"\n      }\n    },\n    {\n      \"column\": \"email\",\n      \"properties\": {\n        \"dtype\": \"string\",\n        \"num_unique_values\": 994,\n        \"samples\": [\n          \"moorenicholas@example.net\",\n          \"kevinclark@example.org\",\n          \"brentgray@example.org\"\n        ],\n        \"semantic_type\": \"\",\n        \"description\": \"\"\n      }\n    },\n    {\n      \"column\": \"phone\",\n      \"properties\": {\n        \"dtype\": \"string\",\n        \"num_unique_values\": 1053,\n        \"samples\": [\n          \"531-928-4033\",\n          \"830-889-4870x605\",\n          \"001-920-848-7706\"\n        ],\n        \"semantic_type\": \"\",\n        \"description\": \"\"\n      }\n    },\n    {\n      \"column\": \"department\",\n      \"properties\": {\n        \"dtype\": \"category\",\n        \"num_unique_values\": 9,\n        \"samples\": [\n          \"Engineering\",\n          \"Enginering\",\n          \"Finance\"\n        ],\n        \"semantic_type\": \"\",\n        \"description\": \"\"\n      }\n    },\n    {\n      \"column\": \"job_title\",\n      \"properties\": {\n        \"dtype\": \"category\",\n        \"num_unique_values\": 20,\n        \"samples\": [\n          \"Senior Analyst\",\n          \"Lead Manager\",\n          \"Senior Manager\"\n        ],\n        \"semantic_type\": \"\",\n        \"description\": \"\"\n      }\n    },\n    {\n      \"column\": \"salary\",\n      \"properties\": {\n        \"dtype\": \"number\",\n        \"std\": 19560.159353835676,\n        \"min\": 15174.0,\n        \"max\": 157054.0,\n        \"num_unique_values\": 1063,\n        \"samples\": [\n          117045.0,\n          82313.0,\n          57405.0\n        ],\n        \"semantic_type\": \"\",\n        \"description\": \"\"\n      }\n    },\n    {\n      \"column\": \"join_date\",\n      \"properties\": {\n        \"dtype\": \"string\",\n        \"num_unique_values\": 848,\n        \"samples\": [\n          \"2021-03-12\",\n          \"2025-02-08\",\n          \"2024-07-31\"\n        ],\n        \"semantic_type\": \"\",\n        \"description\": \"\"\n      }\n    },\n    {\n      \"column\": \"performance_score\",\n      \"properties\": {\n        \"dtype\": \"number\",\n        \"std\": 1.394950803044094,\n        \"min\": 1.0,\n        \"max\": 5.0,\n        \"num_unique_values\": 5,\n        \"samples\": [\n          3.0,\n          1.0,\n          2.0\n        ],\n        \"semantic_type\": \"\",\n        \"description\": \"\"\n      }\n    }\n  ]\n}"
            }
          },
          "metadata": {},
          "execution_count": 34
        }
      ]
    },
    {
      "cell_type": "markdown",
      "source": [
        "### 1. Imputing using Median of Salary"
      ],
      "metadata": {
        "id": "0CS9ndd14nPK"
      }
    },
    {
      "cell_type": "code",
      "source": [
        "# 1. Missing salary imputation\n",
        "# Imputing missing salary values using the median salary for each department\n",
        "for dept in df['department'].unique():\n",
        "      median_salary = df[df['department'] == dept]['salary'].median()\n",
        "      df.loc[(df['department'] == dept) & (df['salary'].isnull()), 'salary'] = median_salary\n",
        "print(\"Missing Salary Imputation completed.\")\n"
      ],
      "metadata": {
        "colab": {
          "base_uri": "https://localhost:8080/"
        },
        "id": "7S_yCqveJcTo",
        "outputId": "ba7ab4b7-bafe-430f-8412-6a52fe6a01d2"
      },
      "execution_count": 35,
      "outputs": [
        {
          "output_type": "stream",
          "name": "stdout",
          "text": [
            "Missing Salary Imputation completed.\n"
          ]
        }
      ]
    },
    {
      "cell_type": "markdown",
      "source": [
        "### 2. Checking Duplicate Employee IDs"
      ],
      "metadata": {
        "id": "XVL8tbAv4vqF"
      }
    },
    {
      "cell_type": "code",
      "source": [
        "# 2. Duplicate Employee ID Check\n",
        "# Identifying and listing all employee_id values that appear more than once\n",
        "duplicate_ids = df[df.duplicated(subset=['employee_id'], keep=False)]['employee_id'].unique()\n",
        "print(\"Duplicate Employee IDs:\", duplicate_ids)\n"
      ],
      "metadata": {
        "colab": {
          "base_uri": "https://localhost:8080/"
        },
        "id": "sNGtkkNPKTB6",
        "outputId": "20ccb7b6-a664-4026-9a85-a004326097e4"
      },
      "execution_count": 36,
      "outputs": [
        {
          "output_type": "stream",
          "name": "stdout",
          "text": [
            "Duplicate Employee IDs: ['EMP0018' 'EMP0037' 'EMP0052' 'EMP0054' 'EMP0064' 'EMP0096' 'EMP0103'\n",
            " 'EMP0135' 'EMP0145' 'EMP0150' 'EMP0191' 'EMP0193' 'EMP0195' 'EMP0215'\n",
            " 'EMP0247' 'EMP0257' 'EMP0265' 'EMP0267' 'EMP0271' 'EMP0275' 'EMP0292'\n",
            " 'EMP0306' 'EMP0332' 'EMP0346' 'EMP0347' 'EMP0379' 'EMP0396' 'EMP0417'\n",
            " 'EMP0438' 'EMP0458' 'EMP0468' 'EMP0478' 'EMP0487' 'EMP0492' 'EMP0567'\n",
            " 'EMP0579' 'EMP0582' 'EMP0586' 'EMP0595' 'EMP0635' 'EMP0699' 'EMP0706'\n",
            " 'EMP0718' 'EMP0745' 'EMP0750' 'EMP0760' 'EMP0802' 'EMP0824' 'EMP0878'\n",
            " 'EMP0888' 'EMP0903' 'EMP0918' 'EMP0979' 'EMP1029' 'EMP1037' 'EMP1055'\n",
            " 'EMP1061' 'EMP1076' 'EMP1091' 'EMP1126']\n"
          ]
        }
      ]
    },
    {
      "cell_type": "markdown",
      "source": [
        "This lambda function does the following for each value x in the performance_score column:\n",
        "\n",
        "String Conversion: str(x) converts the value x into a string. This is crucial because the subsequent .isdigit() method only works on strings.\n",
        "\n",
        "Decimal Removal (First Occurrence): .replace('.', '', 1) attempts to remove the first occurrence of a decimal point (.) from the string. This is intended to handle cases where the input is a floating-point number represented as a string (e.g., \"95.5\"). By removing the decimal, you can then check if the remaining string consists only of digits.\n",
        "\n",
        "Digit Check: .isdigit() checks if the resulting string consists only of digits (0-9).\n",
        "\n",
        "Conditional Logic:\n",
        "\n",
        "if not str(x).replace('.', '', 1).isdigit(): If the string (after potential decimal removal) is not composed only of digits, the lambda function returns -1. This means the value is considered invalid.\n",
        "else int(x): If the string is composed only of digits (or was successfully transformed into one), the lambda function converts the original value x to an integer using int(x) and returns it."
      ],
      "metadata": {
        "id": "RsfAd7GBJ8HL"
      }
    },
    {
      "cell_type": "markdown",
      "source": [
        "### 3. Performance Score Conversion"
      ],
      "metadata": {
        "id": "3fORto8R48-H"
      }
    },
    {
      "cell_type": "code",
      "source": [
        "# 3. Performance Score Conversion\n",
        "# Converting the performance score column to an integer type, replacing None values with -1\n",
        "df['performance_score'] = df['performance_score'].fillna(-1)\n",
        "df['performance_score'] = df['performance_score'].apply(lambda x: -1 if not str(x).replace('.', '', 1).isdigit() else int(x))\n",
        "print(\"Performance Score Conversion completed.\")\n"
      ],
      "metadata": {
        "colab": {
          "base_uri": "https://localhost:8080/"
        },
        "id": "71M90h-8K2Fc",
        "outputId": "91467564-1c50-430f-b69d-883af1ad1580"
      },
      "execution_count": 37,
      "outputs": [
        {
          "output_type": "stream",
          "name": "stdout",
          "text": [
            "Performance Score Conversion completed.\n"
          ]
        }
      ]
    },
    {
      "cell_type": "markdown",
      "source": [
        "### 4. Date Format Standardization"
      ],
      "metadata": {
        "id": "psZwnnIb59Tz"
      }
    },
    {
      "cell_type": "markdown",
      "source": [
        "def convert_date(date_str):: This defines an inner function called convert_date. Inner functions are functions defined inside another function. This function takes a single argument:\n",
        "date_str: This is expected to be a string representing a date.\n",
        "if pd.isnull(date_str):: This checks if the input date_str is null (i.e., None, NaN, or similar). pd.isnull() is a Pandas function designed to handle these types of missing values correctly.\n",
        "If date_str is null, the function returns None, None. This indicates that there's no valid date to process.\n",
        "try...except ValueError as e:: This is a try-except block that handles potential errors. It attempts to execute the code within the try block. If a ValueError occurs (specifically, if pd.to_datetime can't parse the date string), the code in the except block is executed.\n",
        "\n",
        "date_obj = pd.to_datetime(date_str, errors='raise', dayfirst=True)\n",
        "\n",
        "This is the core of the date parsing.\n",
        "pd.to_datetime(date_str, ...): This Pandas function attempts to convert the date_str into a Pandas datetime object.\n",
        "errors='raise': This tells pd.to_datetime to raise a ValueError if it encounters a date string that it cannot parse. This is important because it ensures that invalid dates are not silently converted to some default value.\n",
        "dayfirst=True: This tells pd.to_datetime to interpret the date string with the day coming before the month. This is important for handling dates like \"05-03-2023\" where it's ambiguous whether \"05\" is the day or the month.\n",
        "or format='%d-%m-%Y': This is a comment indicating an alternative way to specify the date format, explicitly.\n",
        "\n",
        "return date_obj.strftime('%Y-%m-%d'), date_obj.year\n",
        "\n",
        "If the date is successfully parsed:\n",
        "date_obj.strftime('%Y-%m-%d'): This converts the datetime object back into a string, but in the 'YYYY-MM-DD' format. strftime is a method of datetime objects that allows you to format the date according to a specified pattern.\n",
        "date_obj.year: This extracts the year as an integer from the datetime object.\n",
        "The function returns both the formatted date string and the year.\n",
        "print(f\"Error converting date: {date_str} - {e}\"): If a ValueError occurs (meaning the date string couldn't be parsed):\n",
        "This line prints an error message to the console, indicating which date string caused the problem and the specific error message (e). This is helpful for debugging.\n",
        "return None, None: If there's an error, the function returns None, None.\n",
        "\n",
        "df[['join_date', 'join_year']] = df['join_date'].apply(lambda x: pd.Series(convert_date(x)))\n",
        "df['join_year'] = pd.to_numeric(df['join_year'], errors='coerce').fillna(-1).astype(int)\n",
        "return df\n",
        "\n",
        " This is where the convert_date function is applied to the join_date column of the DataFrame.\n",
        "df['join_date'].apply(lambda x: ...): This applies a function to each value (x) in the join_date column.\n",
        "lambda x: pd.Series(convert_date(x)): This is a lambda function (an anonymous, small, inline function). It takes a value x (which represents a date string from the join_date column), calls the convert_date function with that value, and then converts the result (which is a tuple of (formatted_date, year)) into a Pandas Series. The pd.Series is crucial because it allows the two returned values to be assigned to two different columns.\n",
        "df[['join_date', 'join_year']] = ...: This assigns the results of the apply operation back to the DataFrame. The original join_date column is replaced with the formatted date string, and a new column join_year is created and populated with the extracted year.\n",
        "\n",
        "df['join_year'] = pd.to_numeric(df['join_year'], errors='coerce').fillna(-1).astype(int)\n",
        "\n",
        "This line handles the join_year column to ensure it contains integer values and fills in missing values.\n",
        "pd.to_numeric(df['join_year'], errors='coerce'): This attempts to convert all values in the join_year column to numeric values. The errors='coerce' argument tells Pandas to replace any values that cannot be converted to numbers with NaN (Not a Number). This is important because the convert_date function returns None when it can't parse a date, which will be inserted as None strings, which would need to be converted to a number.\n",
        ".fillna(-1): This replaces any NaN values in the join_year column with -1. This is a common practice to represent missing or invalid year values.\n",
        ".astype(int): This converts all values in the join_year column to integers.\n",
        "return df: The function returns the modified DataFrame"
      ],
      "metadata": {
        "id": "18hhEqdTOZlO"
      }
    },
    {
      "cell_type": "code",
      "source": [
        "# 4. Date Format Standardization\n",
        "def standardize_date_format(df):\n",
        "    \"\"\"\n",
        "    Converts the join_date column to YYYY-MM-DD format and creates a new join_year column.\n",
        "    Handles errors during date conversion by skipping the row and printing an error message.\n",
        "    \"\"\"\n",
        "    def convert_date(date_str):\n",
        "        if pd.isnull(date_str):\n",
        "            return None, None\n",
        "        try:\n",
        "            # Specify dayfirst=True or format='%d-%m-%Y'\n",
        "            date_obj = pd.to_datetime(date_str, errors='raise', dayfirst=True) # or format='%d-%m-%Y'\n",
        "            return date_obj.strftime('%Y-%m-%d'), date_obj.year\n",
        "        except ValueError as e:\n",
        "            print(f\"Error converting date: {date_str} - {e}\")\n",
        "            return None, None\n",
        "\n",
        "    df[['join_date', 'join_year']] = df['join_date'].apply(lambda x: pd.Series(convert_date(x)))\n",
        "    df['join_year'] = pd.to_numeric(df['join_year'], errors='coerce').fillna(-1).astype(int)\n",
        "    return df"
      ],
      "metadata": {
        "id": "y2ivhtHdK5cO"
      },
      "execution_count": 38,
      "outputs": []
    },
    {
      "cell_type": "markdown",
      "source": [
        "**Department Typo Correction:**\n",
        "\n",
        "After applying the replace() function with the department_mapping dictionary, the output will be a DataFrame where the typos in the 'department' column have been corrected.\n",
        "\n",
        "   department\n",
        "0  Engineering\n",
        "1           IT\n",
        "\n",
        "The 'department' column now has the corrected values, replacing 'Enginering' with 'Engineering' and 'IT ' with 'IT'."
      ],
      "metadata": {
        "id": "cNrbzaaIVHy7"
      }
    },
    {
      "cell_type": "markdown",
      "source": [
        "### 5. Department Typo Correction"
      ],
      "metadata": {
        "id": "xf1jwAsU6G7u"
      }
    },
    {
      "cell_type": "code",
      "source": [
        "# 5. Department Typo Correction\n",
        "\n",
        "department_mapping = {\n",
        "    'Enginering': 'Engineering',\n",
        "    'IT ': 'IT'\n",
        "}\n",
        "\n",
        "df['department'] = df['department'].replace(department_mapping)\n",
        "print(\"Department Typo Correction completed.\")"
      ],
      "metadata": {
        "colab": {
          "base_uri": "https://localhost:8080/"
        },
        "id": "MS9VuCNOLsT7",
        "outputId": "f9ecaa89-c158-4055-9bf2-421dac66f7fa"
      },
      "execution_count": 39,
      "outputs": [
        {
          "output_type": "stream",
          "name": "stdout",
          "text": [
            "Department Typo Correction completed.\n"
          ]
        }
      ]
    },
    {
      "cell_type": "markdown",
      "source": [
        "### 6. Salary Outlier Removal"
      ],
      "metadata": {
        "id": "vJDpx8Fm6MdL"
      }
    },
    {
      "cell_type": "markdown",
      "source": [
        "**Calculate Mean and Standard Deviation:**\n",
        "\n",
        "mean_salary = df['salary'].mean(): This line calculates the mean (average) of the values in the 'salary' column of the DataFrame df and stores it in the variable mean_salary 3 .\n",
        "std_salary = df['salary'].std(): This line calculates the standard deviation of the values in the 'salary' column and stores it in the variable std_salary 3 . The standard deviation measures the spread or dispersion of the data around the mean 7 .\n",
        "\n",
        "Filter Outliers:\n",
        "\n",
        "text\n",
        "\n",
        "df = df[np.abs(df['salary'] - mean_salary) <= (3 * std_salary)]\n",
        ": This line filters the DataFrame, keeping only the rows where the 'salary' is within 3 standard deviations of the mean 1 2 7 9 .\n",
        "df['salary'] - mean_salary: This calculates the difference between each salary and the mean salary.\n",
        "np.abs(...): This takes the absolute value of the differences, so we're considering the distance from the mean, regardless of whether the salary is above or below the mean.\n",
        "(3 * std_salary): This calculates the threshold, which is 3 times the standard deviation 7 .\n",
        "... <= ...: This creates a boolean mask (a Series of True/False values) indicating which salaries are within the threshold.\n",
        "df[...]: This uses the boolean mask to select only the rows where the condition is True, effectively removing the rows with outlier salaries.\n",
        "Confirmation Message:\n",
        "\n",
        "print(\"Salary Outlier Removal completed.\"): This line simply prints a message to the console indicating that the outlier removal process has been completed.\n",
        "In summary, this code identifies and removes salary values that are considered outliers because they fall outside a reasonable range (defined as 3 standard deviations from the mean) 7 . This is a common technique for cleaning data and preventing extreme values from unduly influencing statistical analyses or machine learning models"
      ],
      "metadata": {
        "id": "H2Ad63z3sbyu"
      }
    },
    {
      "cell_type": "code",
      "source": [
        "# 6. Salary Outlier Removal\n",
        "\n",
        "mean_salary = df['salary'].mean()\n",
        "std_salary = df['salary'].std()\n",
        "df = df[np.abs(df['salary'] - mean_salary) <= (3 * std_salary)]\n",
        "print(\"Salary Outlier Removal completed.\")\n"
      ],
      "metadata": {
        "colab": {
          "base_uri": "https://localhost:8080/"
        },
        "id": "NdORSRcWMoi9",
        "outputId": "b4c4c250-cd47-4ddd-a11d-dd638681008e"
      },
      "execution_count": 40,
      "outputs": [
        {
          "output_type": "stream",
          "name": "stdout",
          "text": [
            "Salary Outlier Removal completed.\n"
          ]
        }
      ]
    },
    {
      "cell_type": "markdown",
      "source": [
        "### 7. Email Domain Extraction"
      ],
      "metadata": {
        "id": "MuQejEG06WXg"
      }
    },
    {
      "cell_type": "markdown",
      "source": [
        " get_domain(email) function:\n",
        "\n",
        "def get_domain(email):: Defines a function named get_domain that takes a single argument:\n",
        "\n",
        "email: This is expected to be a string representing an email address.\n",
        "if pd.isnull(email):: This checks if the input email is null (missing value). If it's null, it means there's no email to process, so it immediately returns None.\n",
        "\n",
        "try...except IndexError:: This is a try-except block to gracefully handle potential errors. The try block attempts to split the email string, and the except block handles the case where the split operation fails.\n",
        "\n",
        "return email.split('@')[1]: This is the core of the domain extraction. email.split('@') splits the email string into a list of two strings at the \"@\" symbol. [1] accesses the second element of that list (index 1), which is the domain part of the email address.\n",
        "\n",
        "except IndexError:: If email.split('@') produces a list with fewer than two elements (meaning the \"@\" symbol was not found), an IndexError occurs. The except block catches this error and returns None to indicate that no domain could be extracted.\n",
        "\n",
        "2.\n",
        "text\n",
        "\n",
        "df.loc[:, 'email_domain'] = df['email'].apply(get_domain)\n",
        ":\n",
        "\n",
        "This line applies the get_domain function to the 'email' column of the DataFrame df and stores the results in a new column called 'email_domain'.\n",
        "df['email'].apply(get_domain): The .apply() method applies the get_domain function to each value in the 'email' column. The result is a Pandas Series containing the extracted domains (or None values if extraction failed).\n",
        "df.loc[:, 'email_domain'] = ...: This assigns the resulting Series to a new column in df named 'email_domain'. df.loc[:, 'email_domain'] is a way to assign a column to the DataFrame. The : selects all rows, and 'email_domain' specifies the column name"
      ],
      "metadata": {
        "id": "6mACRFMYtwvG"
      }
    },
    {
      "cell_type": "code",
      "source": [
        "# 7. Email Domain Extraction\n",
        "\n",
        "def get_domain(email):\n",
        "    if pd.isnull(email):\n",
        "        return None\n",
        "    try:\n",
        "        return email.split('@')[1]\n",
        "    except IndexError:\n",
        "        return None\n",
        "\n",
        "df.loc[:, 'email_domain'] = df['email'].apply(get_domain)\n",
        "print(\"Email Domain Extraction completed.\")\n"
      ],
      "metadata": {
        "colab": {
          "base_uri": "https://localhost:8080/"
        },
        "id": "n0ME_N3OM44n",
        "outputId": "b52c9804-9668-4f52-844f-24fda5568702"
      },
      "execution_count": 41,
      "outputs": [
        {
          "output_type": "stream",
          "name": "stdout",
          "text": [
            "Email Domain Extraction completed.\n"
          ]
        }
      ]
    },
    {
      "cell_type": "markdown",
      "source": [
        "### 8. Salary Correlation Calculation"
      ],
      "metadata": {
        "id": "OV0ueOa16eM1"
      }
    },
    {
      "cell_type": "markdown",
      "source": [
        "This code calculates the Pearson correlation coefficient between the 'salary' and 'join_year' columns of a Pandas DataFrame df, and handles potential errors during the calculation. Let's break it down:\n",
        "\n",
        "1. try...except Exception as e: Block\n",
        "\n",
        "This structure attempts to execute a block of code (try) and, if any error occurs during execution, it catches that error and executes a different block of code (except). This prevents the program from crashing and allows you to handle errors gracefully .\n",
        "2.\n",
        "text\n",
        "\n",
        "correlation = df['salary'].corr(df['join_year'], method='pearson')\n",
        "\n",
        "This line calculates the Pearson correlation coefficient between the 'salary' and 'join_year' columns of the DataFrame df and stores the result in the variable correlation.\n",
        "text\n",
        "\n",
        "df['salary'].corr(df['join_year'], method='pearson')\n",
        ": This uses the .corr() method of a Pandas Series to calculate the correlation.\n",
        "df['salary']: This selects the 'salary' column from the DataFrame.\n",
        ".corr(df['join_year'], method='pearson'): This calls the .corr() method on the 'salary' Series, passing in the 'join_year' Series as the other variable to correlate with.\n",
        "method='pearson': Specifies that the Pearson correlation coefficient should be calculated. The Pearson correlation measures the linear relationship between two variables . It returns a value between -1 and 1, where:\n",
        "1 indicates a perfect positive linear correlation.\n",
        "-1 indicates a perfect negative linear correlation.\n",
        "0 indicates no linear correlation .\n",
        "The result of the .corr() method (the correlation coefficient) is assigned to the variable correlation.\n",
        "3. print(\"Salary Correlation:\", correlation)\n",
        "\n",
        "If the correlation is calculated successfully (no error occurred in the try block), this line prints the calculated correlation coefficient to the console .\n",
        "4. except Exception as e:\n",
        "\n",
        "If any error occurs during the execution of the code within the try block (e.g., if the 'salary' or 'join_year' columns are missing, contain non-numeric values, or have only a single unique value), the code in the except block will be executed.\n",
        "Exception as e: This catches any type of exception (error) that occurs and assigns the exception object to the variable e . The exception object contains information about the error.\n",
        "text\n",
        "\n",
        "print(f\"Could not calculate salary correlation: {e}\")\n",
        ": This prints an error message to the console, indicating that the correlation could not be calculated and includes the specific error message (e) . This helps in identifying the cause of the error.\n",
        "\n",
        "**Pearson Correlation Explnation Video:** https://www.youtube.com/watch?v=k7IctLRiZmo"
      ],
      "metadata": {
        "id": "6r9xXdOR1iCH"
      }
    },
    {
      "cell_type": "code",
      "source": [
        "# 8. Salary Correlation Calculation with Pearson Correlation\n",
        "try:\n",
        "    correlation = df['salary'].corr(df['join_year'], method='pearson')\n",
        "    print(\"Salary Correlation:\", correlation)\n",
        "except Exception as e:\n",
        "    print(f\"Could not calculate salary correlation: {e}\")"
      ],
      "metadata": {
        "colab": {
          "base_uri": "https://localhost:8080/"
        },
        "id": "-gk9_F6N5_6g",
        "outputId": "297f0782-3899-4e49-e7de-1a5e7297f55e"
      },
      "execution_count": 42,
      "outputs": [
        {
          "output_type": "stream",
          "name": "stdout",
          "text": [
            "Could not calculate salary correlation: 'join_year'\n"
          ]
        }
      ]
    },
    {
      "cell_type": "markdown",
      "source": [
        "### 9. Average Salary Aggregation"
      ],
      "metadata": {
        "id": "U89QcVYB7CQv"
      }
    },
    {
      "cell_type": "code",
      "source": [
        "# 9. Average Salary Aggregation\n",
        "\n",
        "pivot_table = pd.pivot_table(df, values='salary', index='department', columns='job_title', aggfunc='mean')\n",
        "print(\"Average Salary Aggregation (Pivot Table):\\n\", pivot_table)"
      ],
      "metadata": {
        "colab": {
          "base_uri": "https://localhost:8080/"
        },
        "id": "8q_Ros1K6TWp",
        "outputId": "efa06d16-f8f2-42a5-f3b6-a785fb32ef40"
      },
      "execution_count": 43,
      "outputs": [
        {
          "output_type": "stream",
          "name": "stdout",
          "text": [
            "Average Salary Aggregation (Pivot Table):\n",
            " job_title    Director Analyst  Director Consultant  Director Engineer  \\\n",
            "department                                                              \n",
            "Engineering      84405.187500         87106.300000       79945.444444   \n",
            "Finance          79695.714286         85511.500000       84222.900000   \n",
            "HR               81703.333333         83208.375000       75749.555556   \n",
            "IT               74448.833333         90364.400000       75395.500000   \n",
            "Marketing        76284.222222         76723.181818       79329.181818   \n",
            "Marketting                NaN                  NaN                NaN   \n",
            "Operations       85502.750000         88438.000000       88707.100000   \n",
            "Sales            75914.571429         80046.083333       73967.666667   \n",
            "\n",
            "job_title    Director Manager  Junior Analyst  Junior Consultant  \\\n",
            "department                                                         \n",
            "Engineering      87945.000000    75709.000000       89315.000000   \n",
            "Finance          84374.333333    79545.388889       86789.769231   \n",
            "HR               74745.083333    76677.600000       84401.750000   \n",
            "IT               61862.000000    86084.888889       75257.600000   \n",
            "Marketing        77597.333333    84981.833333       97934.200000   \n",
            "Marketting                NaN   113678.000000                NaN   \n",
            "Operations       80882.090909    84956.888889       72337.033333   \n",
            "Sales            84931.250000    74682.714286       71802.000000   \n",
            "\n",
            "job_title    Junior Engineer  Junior Manager  Lead Analyst  Lead Consultant  \\\n",
            "department                                                                    \n",
            "Engineering     75694.466667    83040.900000  88536.416667     91025.166667   \n",
            "Finance         82466.800000    73036.125000  80503.625000     70027.000000   \n",
            "HR              90838.400000    76312.600000  79283.083333     84617.777778   \n",
            "IT              86236.384615    78152.875000  77049.555556     76937.000000   \n",
            "Marketing       85586.000000    86895.166667  81122.600000     69973.900000   \n",
            "Marketting               NaN             NaN  89135.000000              NaN   \n",
            "Operations      79008.071429    81959.125000  90847.500000     73640.346154   \n",
            "Sales           84925.428571    86882.250000  76244.500000     92062.272727   \n",
            "\n",
            "job_title    Lead Engineer  Lead Manager  Manager Analyst  Manager Consultant  \\\n",
            "department                                                                      \n",
            "Engineering   85189.700000  72874.400000     67410.428571        85233.666667   \n",
            "Finance       80409.636364  87555.142857     78564.000000        79685.571429   \n",
            "HR            85942.818182  80783.875000     61347.000000        77102.750000   \n",
            "IT            79711.222222  81960.666667     82619.888889        95730.428571   \n",
            "Marketing     92537.714286  89838.111111     87524.777778        73183.833333   \n",
            "Marketting             NaN           NaN              NaN        79927.000000   \n",
            "Operations    74996.650000  80137.785714     74241.800000        74570.222222   \n",
            "Sales         86023.666667  77504.666667     73003.571429        76630.545455   \n",
            "\n",
            "job_title    Manager Engineer  Manager Manager  Senior Analyst  \\\n",
            "department                                                       \n",
            "Engineering      80480.187500     71185.272727    87117.125000   \n",
            "Finance          80202.555556     88440.166667    89556.111111   \n",
            "HR               83924.066667     63211.900000    81661.000000   \n",
            "IT               78225.571429     85438.666667    76345.285714   \n",
            "Marketing        70557.800000     78042.800000    77534.750000   \n",
            "Marketting                NaN              NaN    86558.000000   \n",
            "Operations       82923.807692     76997.363636    76746.545455   \n",
            "Sales            78699.466667     89595.285714    83856.000000   \n",
            "\n",
            "job_title    Senior Consultant  Senior Engineer  Senior Manager  \n",
            "department                                                       \n",
            "Engineering       84228.923077     84462.500000    79992.714286  \n",
            "Finance           72655.000000     85116.111111    66044.800000  \n",
            "HR                74589.333333     69449.666667    66040.444444  \n",
            "IT                87999.307692     90513.916667    70629.800000  \n",
            "Marketing         79096.400000     81551.666667    85593.071429  \n",
            "Marketting                 NaN     83981.000000             NaN  \n",
            "Operations        90775.750000     73862.750000    78528.833333  \n",
            "Sales             83752.625000     81203.272727    87238.750000  \n"
          ]
        }
      ]
    },
    {
      "cell_type": "markdown",
      "source": [
        "### 10. Duplicate Row Removal"
      ],
      "metadata": {
        "id": "hlyAX-tq7HPL"
      }
    },
    {
      "cell_type": "code",
      "source": [
        "# 10. Duplicate Row Removal\n",
        "# Removes all duplicate rows form the DataFrame and verifies the removal\n",
        "# Create an explicit copy of the DataFrame\n",
        "df_copy = df.copy()\n",
        "\n",
        "initial_shape = df_copy.shape\n",
        "df_copy.drop_duplicates(inplace=True)\n",
        "final_shape = df_copy.shape\n",
        "\n",
        "if final_shape < initial_shape:\n",
        "    print(\"Duplicates successfully removed.\")\n",
        "    # Assign df_copy back to df if you want to continue using df\n",
        "    df = df_copy\n",
        "else:\n",
        "    print(\"No duplicates were found.\")"
      ],
      "metadata": {
        "colab": {
          "base_uri": "https://localhost:8080/"
        },
        "id": "0LbfXI_S6n9z",
        "outputId": "7dd833f7-5aaa-477f-99ca-6e65b8677df9"
      },
      "execution_count": 44,
      "outputs": [
        {
          "output_type": "stream",
          "name": "stdout",
          "text": [
            "Duplicates successfully removed.\n"
          ]
        }
      ]
    },
    {
      "cell_type": "code",
      "source": [
        "# Display the first few rows of the cleaned DataFrame\n",
        "print(\"Cleaned Dataframe (First 5 rows):\\n\", df.head())"
      ],
      "metadata": {
        "colab": {
          "base_uri": "https://localhost:8080/"
        },
        "id": "1T8oo22Z62cd",
        "outputId": "b045476f-4e88-4591-f100-f637199f2956"
      },
      "execution_count": 45,
      "outputs": [
        {
          "output_type": "stream",
          "name": "stdout",
          "text": [
            "Cleaned Dataframe (First 5 rows):\n",
            "   employee_id first_name last_name                       email  \\\n",
            "0     EMP0001     Robert   Vasquez  anthonyhubbard@example.com   \n",
            "1     EMP0002    Barbara     Bruce    bonniethomas@example.com   \n",
            "2     EMP0003      Derek    Martin         smiller@example.net   \n",
            "3     EMP0004    Monique   Serrano        joseph51@example.net   \n",
            "4     EMP0005      Frank  Robinson       mariepope@example.net   \n",
            "\n",
            "                    phone   department          job_title    salary  \\\n",
            "0            395-797-9647           HR     Senior Analyst   89934.0   \n",
            "1  001-745-858-7716x94722           HR  Senior Consultant   77234.0   \n",
            "2        356-450-4481x832  Engineering  Senior Consultant   92953.0   \n",
            "3        001-852-702-8457        Sales    Senior Engineer  110460.0   \n",
            "4     +1-788-681-6711x207           HR    Manager Manager   75316.0   \n",
            "\n",
            "    join_date  performance_score email_domain  \n",
            "0  2022-09-06                  5  example.com  \n",
            "1  2024-07-05                  5  example.com  \n",
            "2  2022-11-02                  3  example.net  \n",
            "3  2024-09-21                 -1  example.net  \n",
            "4  2023-07-29                  2  example.net  \n"
          ]
        }
      ]
    }
  ]
}